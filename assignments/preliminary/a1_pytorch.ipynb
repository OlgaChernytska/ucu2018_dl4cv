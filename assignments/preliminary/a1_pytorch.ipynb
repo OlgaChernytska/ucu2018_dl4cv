{
 "cells": [
  {
   "cell_type": "markdown",
   "metadata": {},
   "source": [
    "*Colormap of the notebook:*\n",
    "\n",
    "* <span style=\"color:red\">assignment problem</span>. The red color indicates the task that should be done\n",
    "* <span style=\"color:green\">debugging</span>. The green tells you what is expected outcome. Its primarily goal is to help you get the correct answer\n",
    "* <span style=\"color:blue\">comments, hints</span>.\n",
    "\n",
    "Assignment 1 (pytorch basics)\n",
    "======================\n"
   ]
  },
  {
   "cell_type": "markdown",
   "metadata": {},
   "source": [
    "<img src=\"fig/pytorch-logo-dark.png\" style=\"height:64px;\" />"
   ]
  },
  {
   "cell_type": "markdown",
   "metadata": {},
   "source": [
    "#### Useful Links:\n",
    "\n",
    "* pytorch official documentation\n",
    "http://pytorch.org/docs/master/index.html\n",
    "\n",
    "* pytorch discussion\n",
    "https://discuss.pytorch.org/\n",
    "\n",
    "* official tutorials\n",
    "https://pytorch.org/tutorials/\n",
    "\n",
    "* pytorch tutorials\n",
    "https://github.com/yunjey/pytorch-tutorial\n",
    "\n",
    "* pytorch examples\n",
    "https://github.com/jcjohnson/pytorch-examples\n"
   ]
  },
  {
   "cell_type": "markdown",
   "metadata": {},
   "source": [
    "### Preliminaries"
   ]
  },
  {
   "cell_type": "code",
   "execution_count": 1,
   "metadata": {
    "collapsed": true
   },
   "outputs": [],
   "source": [
    "# for compatability issues (python 2 & python 3)\n",
    "from __future__ import print_function\n",
    "from __future__ import division"
   ]
  },
  {
   "cell_type": "code",
   "execution_count": 2,
   "metadata": {
    "collapsed": true
   },
   "outputs": [],
   "source": [
    "import numpy as np\n",
    "import torch"
   ]
  },
  {
   "cell_type": "code",
   "execution_count": 3,
   "metadata": {
    "collapsed": true
   },
   "outputs": [],
   "source": [
    "# random seed settings\n",
    "torch.manual_seed(42)\n",
    "np.random.seed(42)"
   ]
  },
  {
   "cell_type": "markdown",
   "metadata": {},
   "source": [
    "###  Tensors"
   ]
  },
  {
   "cell_type": "markdown",
   "metadata": {},
   "source": [
    "One of the main data type in pytorch is tensor.\n",
    "We will start with the concept of tensor and how it is used in pytorch\n",
    "\n",
    "<img src=\"fig/tensors.jpg\" style=\"height:512px;\" />"
   ]
  },
  {
   "cell_type": "markdown",
   "metadata": {},
   "source": [
    "#### Tensor Initialization"
   ]
  },
  {
   "cell_type": "code",
   "execution_count": 4,
   "metadata": {
    "collapsed": true
   },
   "outputs": [
    {
     "name": "stdout",
     "output_type": "stream",
     "text": [
      " * the first 4 elements of 'v' are:\n",
      "tensor([-2.4736e-27,  4.5695e-41, -2.3428e-26,  4.5695e-41])\n",
      " * the first 4 elements of 'v' are:\n",
      "tensor([ 0.,  1.,  2.,  3.])\n",
      " * the size of the 'v' is \n",
      "torch.Size([64])\n"
     ]
    }
   ],
   "source": [
    "# 1d tensor of size 64 of type float (default)\n",
    "# (this tensor is initialized with default values close to zero)\n",
    "v = torch.empty(64)\n",
    "\n",
    "print(\" * the first 4 elements of 'v' are:\")\n",
    "print(v[:4]) # print the first four elements of the tensor\n",
    "\n",
    "# initialize with array [0,1,...,63]\n",
    "v = torch.arange(0,64)\n",
    "\n",
    "print(\" * the first 4 elements of 'v' are:\")\n",
    "print(v[:4]) # print the first four elements of the tensor\n",
    "\n",
    "print(\" * the size of the 'v' is \")\n",
    "print(v.size())"
   ]
  },
  {
   "cell_type": "code",
   "execution_count": 5,
   "metadata": {
    "collapsed": true
   },
   "outputs": [
    {
     "name": "stdout",
     "output_type": "stream",
     "text": [
      " * the last 4 elements of 'x' are:\n",
      "tensor([[ 0.,  0.,  0.,  0.],\n",
      "        [ 0.,  0.,  0.,  0.],\n",
      "        [ 0.,  0.,  0.,  0.],\n",
      "        [ 0.,  0.,  0.,  0.]])\n",
      " * the last 4 elements of 'x' are:\n",
      "tensor([[ 1.,  1.,  1.,  1.],\n",
      "        [ 1.,  1.,  1.,  1.],\n",
      "        [ 1.,  1.,  1.,  1.],\n",
      "        [ 1.,  1.,  1.,  1.]])\n",
      " * the size of the 'x' is \n",
      "torch.Size([8, 8])\n",
      " * the size of the 'x' can also be obtained by familar from numpy 'shape' command\n",
      "torch.Size([8, 8])\n"
     ]
    }
   ],
   "source": [
    "# 2d tensor of size 64 of type float\n",
    "x = torch.zeros(8, 8).type(torch.FloatTensor)\n",
    "\n",
    "print(\" * the last 4 elements of 'x' are:\")\n",
    "print(x[:4,:4]) # print the last four elements of the tensor\n",
    "\n",
    "# initialize with array all ones\n",
    "x = torch.ones(8, 8).type(torch.FloatTensor)\n",
    "\n",
    "print(\" * the last 4 elements of 'x' are:\")\n",
    "print(x[:4, :4]) # print the last four elements of the tensor\n",
    "\n",
    "print(\" * the size of the 'x' is \")\n",
    "print(x.size())\n",
    "\n",
    "print(\" * the size of the 'x' can also be obtained by familar from numpy 'shape' command\")\n",
    "print(x.shape)"
   ]
  },
  {
   "cell_type": "markdown",
   "metadata": {},
   "source": [
    "-----\n",
    "\n",
    "<span style=\"color:red\"> ** [PROBLEM I]: ** </span>   \n",
    "\n",
    "<span style=\"color:red\"> Initialize X </span>  \n",
    "<span style=\"color:red\"> 3d Tensor of size (4,4,4) </span>  \n",
    "<span style=\"color:red\"> of type IntTensor with all elements equal to zero </span>\n",
    "\n",
    "-----"
   ]
  },
  {
   "cell_type": "code",
   "execution_count": 8,
   "metadata": {
    "collapsed": true
   },
   "outputs": [],
   "source": [
    "# YOUR CODE HERE\n",
    "X = torch.zeros(4,4,4)"
   ]
  },
  {
   "cell_type": "code",
   "execution_count": 9,
   "metadata": {
    "collapsed": true
   },
   "outputs": [
    {
     "data": {
      "text/plain": [
       "torch.Size([4, 4, 4])"
      ]
     },
     "execution_count": 9,
     "metadata": {},
     "output_type": "execute_result"
    }
   ],
   "source": [
    "X.shape"
   ]
  },
  {
   "cell_type": "markdown",
   "metadata": {},
   "source": [
    "#### Reshaping, broadcasting"
   ]
  },
  {
   "cell_type": "markdown",
   "metadata": {},
   "source": [
    "Tensor reshaping is done with command 'view':"
   ]
  },
  {
   "cell_type": "code",
   "execution_count": 10,
   "metadata": {
    "collapsed": true
   },
   "outputs": [
    {
     "name": "stdout",
     "output_type": "stream",
     "text": [
      "tensor([[ 1,  2],\n",
      "        [ 3,  4]])\n",
      "tensor([ 1,  2,  3,  4])\n"
     ]
    }
   ],
   "source": [
    "a = torch.tensor([[1,2], [3,4]])\n",
    "a_reshaped = a.view(4) # reshape into one-dimensional tensor of size 4\n",
    "\n",
    "print(a)\n",
    "print(a_reshaped)"
   ]
  },
  {
   "cell_type": "markdown",
   "metadata": {},
   "source": [
    "-----\n",
    "\n",
    "<span style=\"color:red\"> **[PROBLEM II]: ** </span> \n",
    "\n",
    "<span style=\"color:red\"> Use command 'view' to reshape v and X into 2d tensor --> v' and X'. </span>  \n",
    "<span style=\"color:red\"> Perform addition of these reshaped tensors, namely calculate v' + X' + x </span>  \n",
    "<span style=\"color:red\"> Finally display the result. </span>\n",
    "\n",
    "-----"
   ]
  },
  {
   "cell_type": "code",
   "execution_count": null,
   "metadata": {
    "collapsed": true
   },
   "outputs": [],
   "source": [
    "# YOUR CODE HERE"
   ]
  },
  {
   "cell_type": "code",
   "execution_count": 11,
   "metadata": {
    "collapsed": true
   },
   "outputs": [
    {
     "name": "stdout",
     "output_type": "stream",
     "text": [
      "tensor([[  1.,   2.,   3.,   4.,   5.,   6.,   7.,   8.],\n",
      "        [  9.,  10.,  11.,  12.,  13.,  14.,  15.,  16.],\n",
      "        [ 17.,  18.,  19.,  20.,  21.,  22.,  23.,  24.],\n",
      "        [ 25.,  26.,  27.,  28.,  29.,  30.,  31.,  32.],\n",
      "        [ 33.,  34.,  35.,  36.,  37.,  38.,  39.,  40.],\n",
      "        [ 41.,  42.,  43.,  44.,  45.,  46.,  47.,  48.],\n",
      "        [ 49.,  50.,  51.,  52.,  53.,  54.,  55.,  56.],\n",
      "        [ 57.,  58.,  59.,  60.,  61.,  62.,  63.,  64.]])\n"
     ]
    }
   ],
   "source": [
    "print(result_add)"
   ]
  },
  {
   "cell_type": "markdown",
   "metadata": {},
   "source": [
    "### Numpy bridge"
   ]
  },
  {
   "cell_type": "code",
   "execution_count": 12,
   "metadata": {
    "collapsed": true
   },
   "outputs": [
    {
     "name": "stdout",
     "output_type": "stream",
     "text": [
      "[[1 2]\n",
      " [3 4]] <class 'numpy.ndarray'>\n",
      "tensor([[ 1,  3],\n",
      "        [ 2,  4]])\n",
      "[[1 3]\n",
      " [2 4]] <class 'numpy.ndarray'>\n"
     ]
    }
   ],
   "source": [
    "# create numpy array\n",
    "a = np.array([[1,2], [3,4]])\n",
    "# transform numpy array into torch.Tensor\n",
    "b = torch.from_numpy(a)\n",
    "# make operation on this Tensor (in this case transpose)\n",
    "b = b.transpose(1,0)\n",
    "# transform back to numpy\n",
    "c = b.numpy()                \n",
    "\n",
    "print(a, type(a))\n",
    "print(b)\n",
    "print(c, type(c))"
   ]
  },
  {
   "cell_type": "markdown",
   "metadata": {},
   "source": [
    "-----\n",
    "\n",
    "<span style=\"color:red\"> ** [PROBLEM III]:** </span> "
   ]
  },
  {
   "cell_type": "code",
   "execution_count": 13,
   "metadata": {
    "collapsed": true
   },
   "outputs": [],
   "source": [
    "# using these two random matrices do the following:\n",
    "x = np.random.randn(3, 10)\n",
    "y = np.random.randn(4, 10)"
   ]
  },
  {
   "cell_type": "markdown",
   "metadata": {},
   "source": [
    "<span style=\"color:red\"> Do the following: </span>\n",
    "* <span style=\"color:red\">transform $\\mathbf{x}$ and $\\mathbf{y}$ to torch.Tensors</span>\n",
    "* <span style=\"color:red\">perform matrix mutliplication $\\mathbf{r1} = \\mathbf{x} \\cdot \\mathbf{y^T} $</span>  \n",
    "<span style=\"color:blue\"> look in for pytorch function http://pytorch.org/docs/master/torch.html#torch.mm </span>  \n",
    "* <span style=\"color:red\">perform matrix element-wise mutliplication $\\mathbf{r2} = \\mathbf{r1} \\cdot \\mathbf{r1} $</span>  \n",
    "<span style=\"color:blue\"> look in for pytorch function http://pytorch.org/docs/master/torch.html#torch.mul </span> \n",
    "* <span style=\"color:red\">perform scalar addition and scalar multiplication $\\mathbf{r3} = 2 * \\mathbf{r2} + 3 $</span>  \n",
    "* <span style=\"color:red\">transform the result back to numpy </span>\n",
    "\n",
    "-----"
   ]
  },
  {
   "cell_type": "code",
   "execution_count": 21,
   "metadata": {
    "collapsed": true
   },
   "outputs": [],
   "source": [
    "# YOUR CODE HERE"
   ]
  },
  {
   "cell_type": "markdown",
   "metadata": {},
   "source": [
    "### CUDA stuff"
   ]
  },
  {
   "cell_type": "markdown",
   "metadata": {},
   "source": [
    "let us run on CUDA! ... if CUDA is available\n",
    "\n",
    "We will use ``torch.device`` objects to move tensors in and out of GPU"
   ]
  },
  {
   "cell_type": "code",
   "execution_count": 15,
   "metadata": {
    "collapsed": true
   },
   "outputs": [],
   "source": [
    "if torch.cuda.is_available():\n",
    "    device = torch.device(\"cuda\")          # a CUDA device object\n",
    "    y = torch.ones_like(x, device=device)  # directly create a tensor on GPU\n",
    "    x = x.to(device)                       # or just use strings ``.to(\"cuda\")``\n",
    "    z = x + y\n",
    "    print(z)\n",
    "    print(z.to(\"cpu\", torch.double))       # ``.to`` can also change dtype together!"
   ]
  },
  {
   "cell_type": "markdown",
   "metadata": {},
   "source": [
    "###  Autograd: automatic differentiation\n",
    "\n",
    "*torch.Tensor* is the central class of the package. If you set its attribute *.requires_grad* as True, it starts to track all operations on it. When you finish your computation you can call *.backward()* and have all the gradients computed automatically. The gradient for this tensor will be accumulated into .grad attribute. "
   ]
  },
  {
   "cell_type": "markdown",
   "metadata": {},
   "source": [
    "**use of autograd**\n",
    "\n",
    "Lets start with simple example.\n",
    "Consider the following function:\n",
    "$$f = (x + y) \\cdot z$$\n",
    "\n",
    "For concretness let's take $x=2$, $y=-7$, $z=3$. The 'forward' calculation is shown in <span style=\"color:green\"> green </span> on the image below.\n",
    "\n",
    "Automaic differentiation provides the elegant tool to calculate derivatives of $f$ with respect to all variables, by 'backward' path.\n",
    "\n",
    "$$f = (x + y) \\cdot z = u \\cdot z $$\n",
    "\n",
    "$$ \\frac{\\partial f}{\\partial u} = z $$\n",
    "\n",
    "$$ \\frac{\\partial f}{\\partial z} = u = -5 $$\n",
    "\n",
    "$$ \\frac{\\partial f}{\\partial x} = \\frac{\\partial f}{\\partial u} \\cdot \\frac{\\partial u}{\\partial x} = z = 3$$\n",
    "\n",
    "$$ \\frac{\\partial f}{\\partial y} = \\frac{\\partial f}{\\partial u} \\cdot \\frac{\\partial u}{\\partial y} = z = 3$$\n",
    "\n",
    "<p align=\"center\">\n",
    "<img src=\"fig/comp_graph_1.png\" width=\"500\" />\n",
    "</p>"
   ]
  },
  {
   "cell_type": "code",
   "execution_count": 16,
   "metadata": {
    "collapsed": true
   },
   "outputs": [
    {
     "name": "stdout",
     "output_type": "stream",
     "text": [
      "tensor([ 3])\n",
      "tensor([ 3])\n",
      "tensor([-5])\n"
     ]
    }
   ],
   "source": [
    "# Create tensors.\n",
    "x = torch.tensor([2], requires_grad=True)\n",
    "y = torch.tensor([-7], requires_grad=True)\n",
    "z = torch.tensor([3], requires_grad=True)\n",
    "\n",
    "# Build a computational graph.\n",
    "f = (x + y) * z   \n",
    "\n",
    "# Compute gradients.\n",
    "f.backward()\n",
    "\n",
    "# Print out the gradients.\n",
    "print(x.grad)    \n",
    "print(y.grad)    \n",
    "print(z.grad) "
   ]
  },
  {
   "cell_type": "markdown",
   "metadata": {},
   "source": [
    "<span style=\"color:red\"> **[PROBLEM V]**: </span> \n",
    "\n",
    "<span style=\"color:red\"> Next we will consider the computational graph of the following function  </span>\n",
    "\n",
    "$$f = \\frac{1}{1 + exp^{-(w_0 \\cdot x_0 + w_1 \\cdot x_1 + b )}} = \\frac{1}{1 + exp^{-(\\mathbf{w} \\cdot \\mathbf{x} + b )}}$$\n",
    "\n",
    "<img src=\"fig/comp_graph_2.png\" style=\"height:320px;\" />\n",
    "\n",
    "<span style=\"color:red\"> We are interested in computing partial derivatives:  </span>\n",
    "\n",
    "<span style=\"color:red\">$$ \\frac{\\partial f}{\\partial \\mathbf{w}}  $$ </span>\n",
    "\n",
    "<span style=\"color:red\">$$ \\frac{\\partial f}{\\partial b}  $$ </span>\n",
    "\n",
    "<span style=\"color:red\">$$ \\frac{\\partial f}{\\partial \\mathbf{x}}  $$ </span>\n",
    "\n",
    "<span style=\"color:blue\">define $\\{x_0, x_1\\}$ and $\\{w_0, w_1\\}$ as vector variables $\\mathbf{x}$ and $\\mathbf{w}$ </span>  \n",
    "<span style=\"color:blue\"> look in for pytorch exponent function http://pytorch.org/docs/master/torch.html#torch.exp </span>  \n",
    "<span style=\"color:blue\">use matrix operations</span>\n",
    "\n",
    "<span style=\"color:green\">You should get the numbers the same as on the figure</span>"
   ]
  },
  {
   "cell_type": "code",
   "execution_count": 17,
   "metadata": {
    "collapsed": true
   },
   "outputs": [
    {
     "name": "stdout",
     "output_type": "stream",
     "text": [
      "tensor([-0.3932,  0.1966])\n",
      "tensor([ 0.5898,  0.9831])\n",
      "tensor([ 0.1966])\n"
     ]
    }
   ],
   "source": [
    "w = torch.tensor([3., 5.], requires_grad=True)\n",
    "x = torch.tensor([-2., 1.], requires_grad=True)\n",
    "b = torch.tensor([2.], requires_grad=True)\n",
    "f = None #YOUR CODE HERE\n",
    "\n",
    "# Compute gradients.\n",
    "f.backward()\n",
    "\n",
    "# Print out the gradients.\n",
    "print(w.grad)\n",
    "print(x.grad)      \n",
    "print(b.grad) "
   ]
  },
  {
   "cell_type": "code",
   "execution_count": 18,
   "metadata": {
    "collapsed": true
   },
   "outputs": [
    {
     "data": {
      "text/plain": [
       "tensor([[ 0.7311]])"
      ]
     },
     "execution_count": 18,
     "metadata": {},
     "output_type": "execute_result"
    }
   ],
   "source": [
    "f"
   ]
  },
  {
   "cell_type": "code",
   "execution_count": 19,
   "metadata": {
    "collapsed": true
   },
   "outputs": [
    {
     "name": "stdout",
     "output_type": "stream",
     "text": [
      "tensor([-0.3932,  0.1966])\n",
      "tensor([ 0.5898,  0.9831])\n",
      "tensor([ 0.1966])\n"
     ]
    }
   ],
   "source": [
    "print(w.grad)\n",
    "print(x.grad)      \n",
    "print(b.grad) "
   ]
  },
  {
   "cell_type": "code",
   "execution_count": null,
   "metadata": {
    "collapsed": true
   },
   "outputs": [],
   "source": []
  },
  {
   "cell_type": "markdown",
   "metadata": {},
   "source": [
    "One can make gradient zero by *.zero_()* command"
   ]
  },
  {
   "cell_type": "code",
   "execution_count": 20,
   "metadata": {
    "collapsed": true
   },
   "outputs": [
    {
     "name": "stdout",
     "output_type": "stream",
     "text": [
      "tensor([ 0.,  0.])\n"
     ]
    }
   ],
   "source": [
    "w.grad.zero_()\n",
    "print(w.grad)"
   ]
  },
  {
   "cell_type": "code",
   "execution_count": null,
   "metadata": {
    "collapsed": true
   },
   "outputs": [],
   "source": []
  }
 ],
 "metadata": {
  "kernelspec": {
   "display_name": "Python 3",
   "language": "python",
   "name": "python3"
  },
  "language_info": {
   "codemirror_mode": {
    "name": "ipython",
    "version": 3
   },
   "file_extension": ".py",
   "mimetype": "text/x-python",
   "name": "python",
   "nbconvert_exporter": "python",
   "pygments_lexer": "ipython3",
   "version": "3.6.4"
  }
 },
 "nbformat": 4,
 "nbformat_minor": 2
}
